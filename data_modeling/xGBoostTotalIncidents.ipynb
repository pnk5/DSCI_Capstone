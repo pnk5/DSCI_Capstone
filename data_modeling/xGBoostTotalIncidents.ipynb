{
  "nbformat": 4,
  "nbformat_minor": 0,
  "metadata": {
    "colab": {
      "name": "xGBoostTotalIncidents",
      "provenance": []
    },
    "kernelspec": {
      "name": "python3",
      "display_name": "Python 3"
    }
  },
  "cells": [
    {
      "cell_type": "markdown",
      "metadata": {
        "id": "f3NktjaK2rDa"
      },
      "source": [
        "## xGBoostTotalIncidents"
      ]
    },
    {
      "cell_type": "markdown",
      "metadata": {
        "id": "NptoRYNv27ze"
      },
      "source": [
        "*   Input:  \n",
        "  1.   *trainTractsDroppedStandard.csv*  \n",
        "  2.   *testTractsDroppedStandard.csv* \n",
        "*   Does:  \n",
        "  1.   Trains an XGBoost Model on census tracts to predict\n",
        "       total incident count per capita.\n",
        "  2.   Plots features found to be important by the trained model. \n",
        "*   Output:\n",
        "  1.   Plots showing feature importances extracted from the \n",
        "       trained model."
      ]
    },
    {
      "cell_type": "markdown",
      "metadata": {
        "id": "KuVebmrHsQ7W"
      },
      "source": [
        "## Import Data"
      ]
    },
    {
      "cell_type": "code",
      "metadata": {
        "id": "Z-gYWtBXr6R5"
      },
      "source": [
        "# Install libraries\n",
        "import pandas as pd\n",
        "import numpy as np\n",
        "pd.plotting.register_matplotlib_converters()\n",
        "import matplotlib.pyplot as plt\n",
        "%matplotlib inline\n",
        "import seaborn as sns\n",
        "from sklearn.model_selection import train_test_split\n",
        "\n",
        "\n",
        "# Load training data\n",
        "X_train_full = pd.read_csv('data_source/trainTractsDroppedStandard.csv', \n",
        "                            engine='python'\n",
        "                           )\n",
        "X_train_full.set_index('TRACTA', inplace=True, drop=True)\n",
        "\n",
        "\n",
        "\n",
        "\n",
        "# Load testing data\n",
        "X_test_full = pd.read_csv('data_source/testTractsDroppedStandard.csv', \n",
        "                            engine='python'\n",
        "                           )\n",
        "X_test_full.set_index('TRACTA', inplace=True, drop=True)\n",
        "\n",
        "\n",
        "\n",
        "\n",
        "\n",
        "# Rescale target (otherwise model will almost always predict 0.0)\n",
        "X_train_full['incidents_per_capita_log'] = np.log(X_train_full['incidents_per_capita'])\n",
        "X_test_full['incidents_per_capita_log'] = np.log(X_test_full['incidents_per_capita'])\n",
        "\n",
        "\n",
        "\n",
        "\n",
        "# Get columns to drop\n",
        "drop_cols1 = list(X_train_full.loc[:, 'total_pop':'RPL_THEMES'].columns)\n",
        "drop_cols2 = ['Unnamed: 0',  'total_incidents', 'incidents_per_capita', 'medical_per_capita', 'fire_per_capita']\n",
        "drop_cols = drop_cols1 + drop_cols2\n",
        "\n",
        "\n",
        "\n",
        "# Drop unnecessary columns\n",
        "X_train_full = X_train_full.drop(columns=drop_cols)\n",
        "X_test_full = X_test_full.drop(columns=drop_cols)\n",
        "\n",
        "\n",
        "\n",
        "# Rename columns for enhanced readability\n",
        "rename_mapping = {'Oregon': 'Tract in Oregon',\n",
        "                  'percent_male': 'Pct Male',\n",
        "                  'percent_w_public_assist_income_exp0.3': 'Pct with Public Assist Income',\n",
        "                  'percent_1.01to1.5_per_room_exp0.4': 'Pct Households with 1.01 - 1.5 per Room',\n",
        "                  'percent_leave_for_work_4tomidnight_sqrt': 'Pct Leaving for Work after 4 PM',\n",
        "                  'percent_5to14min_commute_sqrt': 'Pct Having 5 - 14 Minute Commute',\n",
        "                  'total_pop_sqrt': 'Total Population',\n",
        "                  'percent_leave_for_work_before_6am_sqrt': 'Pct Leaving for Work before 6 AM',\n",
        "                  'percent_15to24min_commute': 'Pct Having 14 - 24 Minute Commute',\n",
        "                  'num_housing_units_boxcox': 'Num of Housing Units',\n",
        "                  'median_year_built': 'Median Year When Buildings Built',\n",
        "                  'percent_no_health_insur_sqrt': 'Pct with No Health Insurance',\n",
        "                  'percent_renter_occ_sqrt': 'Pct Housing Renter-Occupied',\n",
        "                  'percent_white_alone_exp1.4': 'Pct White',\n",
        "                  'percent_over90min_commute_sqrt': 'Pct Commuting over 90 min',\n",
        "                  'percent_multi_race_sqrt': 'Pct Multiracial',\n",
        "                  'SPL_THEME4': 'Housing Type And Transportation Score',\n",
        "                  'percent_0to19_years': 'Pct 0 - 19 Years Old',\n",
        "                  'percent_4_person_hh': 'Pct of 4-Person Households',\n",
        "                  'percent_drive_to_work_boxcox': 'Pct who Drive to Work',\n",
        "                  'percent_asian_alone_exp0.3': 'Pct Asian',\n",
        "                  'SPL_THEME2': 'Household Composition and Disability Score',\n",
        "                  'percent_black_alone_exp0.3': 'Pct Black',\n",
        "                  'percent_medicaid_only_sqrt': 'Pct with Only Medicaid',\n",
        "                  'percent_3_person_hh': 'Pct of 3-Person Households',\n",
        "                  'percent_employer_only': 'Pct with Only Employer-provided Health Insurance',\n",
        "                  'percent_1.51to2_per_room_exp0.3': 'Pct Households with 1.51 - 2 per Room',\n",
        "                  'percent_public_transpo_to_work_exp0.4': 'Pct Commuting with Public Transport',\n",
        "                  'EP_GROUPQ_exp0.2': 'Pct Persons in Group Quarters',\n",
        "                  'percent_vacant_exp0.2': 'Pct Vacant Houses',\n",
        "                  'percent_ue_in_labor_force_sqrt': 'Pct Unemployed in Labor Force',\n",
        "                  'percent_25to34min_commute': 'Pct Having 25 - 34 Minute Commute',\n",
        "                  'percent_tricare_only_exp0.7': 'Pct with Tricare Health Insurance', \n",
        "                  'Idaho': 'Tract in Idaho',\n",
        "                  'percent_VA_only_exp0.3': 'Pct with VA Health Insurance',\n",
        "                  'percent_2_person_hh': 'Pct of 2-Person Households',\n",
        "                  'percent_1.85to1.99_IPL_sqrt': 'Pct of Incomes 1.85 to 1.99 IPL'}\n",
        "X_train_full.rename(columns=rename_mapping, inplace=True)\n",
        "X_test_full.rename(columns=rename_mapping, inplace=True)\n",
        "\n",
        "\n",
        "\n",
        "# Allow us to see all columns of our dataframe\n",
        "pd.set_option('max_columns', None)"
      ],
      "execution_count": null,
      "outputs": []
    },
    {
      "cell_type": "markdown",
      "metadata": {
        "id": "woLemTrKsVkO"
      },
      "source": [
        "## Get Data in Proper Shape for Predictions"
      ]
    },
    {
      "cell_type": "code",
      "metadata": {
        "id": "RUKNrTaYsdyp"
      },
      "source": [
        "# Separate target from predictors\n",
        "y_train = X_train_full['incidents_per_capita_log']\n",
        "X_train = X_train_full.drop(columns='incidents_per_capita_log')\n",
        "\n",
        "# Separate target from predictors\n",
        "y_test = X_test_full['incidents_per_capita_log']\n",
        "X_test = X_test_full.drop(columns='incidents_per_capita_log')"
      ],
      "execution_count": null,
      "outputs": []
    },
    {
      "cell_type": "markdown",
      "metadata": {
        "id": "Z06yiDUKsegZ"
      },
      "source": [
        "## Modeling"
      ]
    },
    {
      "cell_type": "code",
      "metadata": {
        "id": "AWeLros7skFF"
      },
      "source": [
        "from skopt import BayesSearchCV\n",
        "from skopt.space import Real, Categorical, Integer\n",
        "from xgboost import XGBRegressor\n",
        "\n",
        "# Define our model\n",
        "fixed_params = {'objective': 'reg:squarederror', \n",
        "                'random_state': 42,\n",
        "                'n_jobs': 1\n",
        "               }\n",
        "param_dist = {'max_depth': Integer(1,3),\n",
        "              'learning_rate': Real(0.01, 0.2),\n",
        "              'min_child_weight': Integer(0, 10),\n",
        "              'max_delta_step': Integer(0, 20),\n",
        "              'colsample_bytree': Real(0.01, 1.0, 'uniform'),\n",
        "              'colsample_bylevel': Real(0.01, 1.0, 'uniform'),\n",
        "              'n_estimators': Integer(100, 1000),\n",
        "              'subsample': [0.6, 0.7, 0.8, 0.9, 1.0],\n",
        "              'reg_alpha': Real(0.0, 2.0),\n",
        "              'reg_lambda': Real(0.0, 8.0),\n",
        "             }\n",
        "regressor = XGBRegressor(**fixed_params)\n",
        "\n",
        "search = BayesSearchCV(regressor,\n",
        "                    param_dist,\n",
        "                    scoring='neg_mean_absolute_error',\n",
        "                    cv=5,\n",
        "                    n_iter=75,\n",
        "                    n_jobs=-1,\n",
        "                    return_train_score=False,\n",
        "                    refit=True,\n",
        "                    optimizer_kwargs={'base_estimator': 'GP'},\n",
        "                    random_state=0)\n",
        "\n",
        "search.fit(X_train, y_train)"
      ],
      "execution_count": null,
      "outputs": []
    },
    {
      "cell_type": "code",
      "metadata": {
        "id": "a3OQc86dss2p"
      },
      "source": [
        "print('Best parameters:  ', search.best_params_)\n",
        "print('Best MAE score:  ', search.best_score_)\n",
        "best_estimator = search.best_estimator_"
      ],
      "execution_count": null,
      "outputs": []
    },
    {
      "cell_type": "code",
      "metadata": {
        "id": "uhbfzOkestl6"
      },
      "source": [
        "from sklearn.metrics import mean_absolute_error\n",
        "\n",
        "predictions = best_estimator.predict(X_test)\n",
        "mae = mean_absolute_error(predictions, y_test) # Your code here\n",
        "print(mae)"
      ],
      "execution_count": null,
      "outputs": []
    },
    {
      "cell_type": "markdown",
      "metadata": {
        "id": "reqwZ2zEszHN"
      },
      "source": [
        "## Model Explainability"
      ]
    },
    {
      "cell_type": "code",
      "metadata": {
        "id": "qVqIhCVEs28X"
      },
      "source": [
        "import shap\n",
        "\n",
        "# Code to fix a bug that prevents SHAP from interacting with the XGBoost library [3]\n",
        "mybooster = best_estimator.get_booster()    \n",
        "model_bytearray = mybooster.save_raw()[4:]\n",
        "def myfun(self=None):\n",
        "    return model_bytearray\n",
        "mybooster.save_raw = myfun\n",
        "\n",
        "# Get SHAP values\n",
        "explainer = shap.TreeExplainer(mybooster)\n",
        "shap_values = explainer.shap_values(X_train)"
      ],
      "execution_count": null,
      "outputs": []
    },
    {
      "cell_type": "code",
      "metadata": {
        "id": "3_Jxhmd8s66Z"
      },
      "source": [
        "# Plot absolute feature importance of our XGBoost Model\n",
        "plt.figure()\n",
        "plt.title('Average Feature Contribution Towards Total Incidents per Capita', pad=20, fontsize=19, fontweight='bold')\n",
        "shap.summary_plot(shap_values, X_train, plot_type=\"bar\")"
      ],
      "execution_count": null,
      "outputs": []
    },
    {
      "cell_type": "code",
      "metadata": {
        "id": "65fv3NAUtC0R"
      },
      "source": [
        "# Get a summary plot showing groupings of data and correlations between features and the target variable.\n",
        "plt.figure()\n",
        "plt.title('Summary Plot of Our XGBoost Model', pad=25, fontsize=20, fontweight='bold')\n",
        "shap.summary_plot(shap_values, X_train)"
      ],
      "execution_count": null,
      "outputs": []
    },
    {
      "cell_type": "code",
      "metadata": {
        "id": "q0Q6qFFTtWTq"
      },
      "source": [
        "# Visualize the explanation for an arbitrary prediction (use matplotlib=True to avoid using Javascript)\n",
        "shap.force_plot(explainer.expected_value, shap_values[23,:], X_train.iloc[23,:], matplotlib=True)"
      ],
      "execution_count": null,
      "outputs": []
    },
    {
      "cell_type": "code",
      "metadata": {
        "id": "5U4v3511upi9"
      },
      "source": [
        "# Create plot showing effect of 'Percent Commuting over 90 min' on model output\n",
        "medIncome_dependencePlot = shap.dependence_plot('Pct Commuting over 90 min', shap_values, X_train, show=False)"
      ],
      "execution_count": null,
      "outputs": []
    }
  ]
}