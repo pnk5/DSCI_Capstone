{
 "cells": [
  {
   "cell_type": "code",
   "execution_count": 3,
   "metadata": {},
   "outputs": [],
   "source": [
    "library(readr)\n",
    "library(data.table)"
   ]
  },
  {
   "cell_type": "code",
   "execution_count": 27,
   "metadata": {},
   "outputs": [],
   "source": [
    "# Data with geoid provided\n",
    "part1 <- fread(\"data_source/temp_census_matched.csv\", stringsAsFactors = F)\n",
    "# pulled the first time\n",
    "part3 <- fread(\"data_source/merged_part_3_final_pls.csv\", stringsAsFactors = F)"
   ]
  },
  {
   "cell_type": "code",
   "execution_count": 28,
   "metadata": {},
   "outputs": [
    {
     "data": {
      "text/html": [
       "46"
      ],
      "text/latex": [
       "46"
      ],
      "text/markdown": [
       "46"
      ],
      "text/plain": [
       "[1] 46"
      ]
     },
     "metadata": {},
     "output_type": "display_data"
    }
   ],
   "source": [
    "# Checking which columns to use\n",
    "which(!c(colnames(part1) %in% colnames(part3)))\n",
    "these_names <- colnames(part1)[-46]"
   ]
  },
  {
   "cell_type": "code",
   "execution_count": 29,
   "metadata": {},
   "outputs": [],
   "source": [
    "reallyall <- rbind(part1[, these_names, with = FALSE], \n",
    "                   part3[, these_names, with = FALSE])"
   ]
  },
  {
   "cell_type": "code",
   "execution_count": 30,
   "metadata": {},
   "outputs": [],
   "source": [
    "# Additional hispanic race breakdown\n",
    "hisp <- fread(\"data_source/merge_this.csv\")[, c(1, 38:88)] # Hispanic race breakdown"
   ]
  },
  {
   "cell_type": "code",
   "execution_count": 31,
   "metadata": {},
   "outputs": [
    {
     "data": {
      "text/html": [
       "<style>\n",
       ".list-inline {list-style: none; margin:0; padding: 0}\n",
       ".list-inline>li {display: inline-block}\n",
       ".list-inline>li:not(:last-child)::after {content: \"\\00b7\"; padding: 0 .5ex}\n",
       "</style>\n",
       "<ol class=list-inline><li>'V1'</li><li>'GISJOIN'</li><li>'AJWVE001'</li><li>'AJWVE002'</li><li>'AJWVE003'</li><li>'AJWVE004'</li><li>'AJWVE005'</li><li>'AJWVE006'</li><li>'AJWVE007'</li><li>'AJWVE008'</li><li>'AJWVE009'</li><li>'AJWVE010'</li><li>'AJWVE011'</li><li>'AJWVE012'</li><li>'AJWVE013'</li><li>'AJWVE014'</li><li>'AJWVE015'</li><li>'AJWVE016'</li><li>'AJWVE017'</li><li>'AJWVE018'</li><li>'AJWVE019'</li><li>'AJWVE020'</li><li>'AJWVE021'</li><li>'AJ18E001'</li><li>'AJ18E002'</li><li>'AJ18E003'</li><li>'AJ18E004'</li><li>'AJ18E005'</li><li>'AJ18E006'</li><li>'AJ18E007'</li><li>'AJ18E008'</li><li>'AJ18E009'</li><li>'AJ18E010'</li><li>'AJ18E011'</li><li>'AJ18E012'</li><li>'AJ18E013'</li><li>'AJ18E014'</li><li>'AJ18E015'</li><li>'AJ18E016'</li><li>'AJ18E017'</li><li>'AJ2AE001'</li><li>'AJ2AE002'</li><li>'AJ2AE003'</li><li>'AJ2AE004'</li><li>'AJ2AE005'</li><li>'AJ2AE006'</li><li>'AJ2AE007'</li><li>'AJ2AE008'</li><li>'AJ2AE009'</li><li>'AJ2AE010'</li><li>'AJ2AE011'</li><li>'AJ2AE012'</li><li>'AJ2AE013'</li></ol>\n"
      ],
      "text/latex": [
       "\\begin{enumerate*}\n",
       "\\item 'V1'\n",
       "\\item 'GISJOIN'\n",
       "\\item 'AJWVE001'\n",
       "\\item 'AJWVE002'\n",
       "\\item 'AJWVE003'\n",
       "\\item 'AJWVE004'\n",
       "\\item 'AJWVE005'\n",
       "\\item 'AJWVE006'\n",
       "\\item 'AJWVE007'\n",
       "\\item 'AJWVE008'\n",
       "\\item 'AJWVE009'\n",
       "\\item 'AJWVE010'\n",
       "\\item 'AJWVE011'\n",
       "\\item 'AJWVE012'\n",
       "\\item 'AJWVE013'\n",
       "\\item 'AJWVE014'\n",
       "\\item 'AJWVE015'\n",
       "\\item 'AJWVE016'\n",
       "\\item 'AJWVE017'\n",
       "\\item 'AJWVE018'\n",
       "\\item 'AJWVE019'\n",
       "\\item 'AJWVE020'\n",
       "\\item 'AJWVE021'\n",
       "\\item 'AJ18E001'\n",
       "\\item 'AJ18E002'\n",
       "\\item 'AJ18E003'\n",
       "\\item 'AJ18E004'\n",
       "\\item 'AJ18E005'\n",
       "\\item 'AJ18E006'\n",
       "\\item 'AJ18E007'\n",
       "\\item 'AJ18E008'\n",
       "\\item 'AJ18E009'\n",
       "\\item 'AJ18E010'\n",
       "\\item 'AJ18E011'\n",
       "\\item 'AJ18E012'\n",
       "\\item 'AJ18E013'\n",
       "\\item 'AJ18E014'\n",
       "\\item 'AJ18E015'\n",
       "\\item 'AJ18E016'\n",
       "\\item 'AJ18E017'\n",
       "\\item 'AJ2AE001'\n",
       "\\item 'AJ2AE002'\n",
       "\\item 'AJ2AE003'\n",
       "\\item 'AJ2AE004'\n",
       "\\item 'AJ2AE005'\n",
       "\\item 'AJ2AE006'\n",
       "\\item 'AJ2AE007'\n",
       "\\item 'AJ2AE008'\n",
       "\\item 'AJ2AE009'\n",
       "\\item 'AJ2AE010'\n",
       "\\item 'AJ2AE011'\n",
       "\\item 'AJ2AE012'\n",
       "\\item 'AJ2AE013'\n",
       "\\end{enumerate*}\n"
      ],
      "text/markdown": [
       "1. 'V1'\n",
       "2. 'GISJOIN'\n",
       "3. 'AJWVE001'\n",
       "4. 'AJWVE002'\n",
       "5. 'AJWVE003'\n",
       "6. 'AJWVE004'\n",
       "7. 'AJWVE005'\n",
       "8. 'AJWVE006'\n",
       "9. 'AJWVE007'\n",
       "10. 'AJWVE008'\n",
       "11. 'AJWVE009'\n",
       "12. 'AJWVE010'\n",
       "13. 'AJWVE011'\n",
       "14. 'AJWVE012'\n",
       "15. 'AJWVE013'\n",
       "16. 'AJWVE014'\n",
       "17. 'AJWVE015'\n",
       "18. 'AJWVE016'\n",
       "19. 'AJWVE017'\n",
       "20. 'AJWVE018'\n",
       "21. 'AJWVE019'\n",
       "22. 'AJWVE020'\n",
       "23. 'AJWVE021'\n",
       "24. 'AJ18E001'\n",
       "25. 'AJ18E002'\n",
       "26. 'AJ18E003'\n",
       "27. 'AJ18E004'\n",
       "28. 'AJ18E005'\n",
       "29. 'AJ18E006'\n",
       "30. 'AJ18E007'\n",
       "31. 'AJ18E008'\n",
       "32. 'AJ18E009'\n",
       "33. 'AJ18E010'\n",
       "34. 'AJ18E011'\n",
       "35. 'AJ18E012'\n",
       "36. 'AJ18E013'\n",
       "37. 'AJ18E014'\n",
       "38. 'AJ18E015'\n",
       "39. 'AJ18E016'\n",
       "40. 'AJ18E017'\n",
       "41. 'AJ2AE001'\n",
       "42. 'AJ2AE002'\n",
       "43. 'AJ2AE003'\n",
       "44. 'AJ2AE004'\n",
       "45. 'AJ2AE005'\n",
       "46. 'AJ2AE006'\n",
       "47. 'AJ2AE007'\n",
       "48. 'AJ2AE008'\n",
       "49. 'AJ2AE009'\n",
       "50. 'AJ2AE010'\n",
       "51. 'AJ2AE011'\n",
       "52. 'AJ2AE012'\n",
       "53. 'AJ2AE013'\n",
       "\n",
       "\n"
      ],
      "text/plain": [
       " [1] \"V1\"       \"GISJOIN\"  \"AJWVE001\" \"AJWVE002\" \"AJWVE003\" \"AJWVE004\"\n",
       " [7] \"AJWVE005\" \"AJWVE006\" \"AJWVE007\" \"AJWVE008\" \"AJWVE009\" \"AJWVE010\"\n",
       "[13] \"AJWVE011\" \"AJWVE012\" \"AJWVE013\" \"AJWVE014\" \"AJWVE015\" \"AJWVE016\"\n",
       "[19] \"AJWVE017\" \"AJWVE018\" \"AJWVE019\" \"AJWVE020\" \"AJWVE021\" \"AJ18E001\"\n",
       "[25] \"AJ18E002\" \"AJ18E003\" \"AJ18E004\" \"AJ18E005\" \"AJ18E006\" \"AJ18E007\"\n",
       "[31] \"AJ18E008\" \"AJ18E009\" \"AJ18E010\" \"AJ18E011\" \"AJ18E012\" \"AJ18E013\"\n",
       "[37] \"AJ18E014\" \"AJ18E015\" \"AJ18E016\" \"AJ18E017\" \"AJ2AE001\" \"AJ2AE002\"\n",
       "[43] \"AJ2AE003\" \"AJ2AE004\" \"AJ2AE005\" \"AJ2AE006\" \"AJ2AE007\" \"AJ2AE008\"\n",
       "[49] \"AJ2AE009\" \"AJ2AE010\" \"AJ2AE011\" \"AJ2AE012\" \"AJ2AE013\""
      ]
     },
     "metadata": {},
     "output_type": "display_data"
    }
   ],
   "source": [
    "colnames(hisp)"
   ]
  },
  {
   "cell_type": "code",
   "execution_count": 32,
   "metadata": {},
   "outputs": [],
   "source": [
    "finallyall <- merge(x = reallyall, y = hisp, by = \"GISJOIN\", all.x = TRUE)"
   ]
  },
  {
   "cell_type": "code",
   "execution_count": 34,
   "metadata": {},
   "outputs": [
    {
     "data": {
      "text/html": [
       "1400118"
      ],
      "text/latex": [
       "1400118"
      ],
      "text/markdown": [
       "1400118"
      ],
      "text/plain": [
       "[1] 1400118"
      ]
     },
     "metadata": {},
     "output_type": "display_data"
    },
    {
     "data": {
      "text/html": [
       "1400118"
      ],
      "text/latex": [
       "1400118"
      ],
      "text/markdown": [
       "1400118"
      ],
      "text/plain": [
       "[1] 1400118"
      ]
     },
     "metadata": {},
     "output_type": "display_data"
    }
   ],
   "source": [
    "# Check successful merge\n",
    "nrow(finallyall)\n",
    "length(unique(finallyall$id))"
   ]
  },
  {
   "cell_type": "code",
   "execution_count": 23,
   "metadata": {},
   "outputs": [],
   "source": [
    "# Additional travel time data\n",
    "add_this_2 <- fread(\"merge_this_2.csv\")[, c(1, 38:89)]"
   ]
  },
  {
   "cell_type": "code",
   "execution_count": 24,
   "metadata": {
    "scrolled": true
   },
   "outputs": [],
   "source": [
    "final2 <- merge(x = finallyall, y = add_this_2, by = \"GISJOIN\", all.x = TRUE)"
   ]
  },
  {
   "cell_type": "code",
   "execution_count": 26,
   "metadata": {},
   "outputs": [],
   "source": [
    "# Writing out\n",
    "write.csv(final2, \"complete_everything.csv\")"
   ]
  },
  {
   "cell_type": "code",
   "execution_count": 25,
   "metadata": {},
   "outputs": [
    {
     "data": {
      "text/html": [
       "1400118"
      ],
      "text/latex": [
       "1400118"
      ],
      "text/markdown": [
       "1400118"
      ],
      "text/plain": [
       "[1] 1400118"
      ]
     },
     "metadata": {},
     "output_type": "display_data"
    }
   ],
   "source": [
    "nrow(final2)\n"
   ]
  }
 ],
 "metadata": {
  "kernelspec": {
   "display_name": "R",
   "language": "R",
   "name": "ir"
  },
  "language_info": {
   "codemirror_mode": "r",
   "file_extension": ".r",
   "mimetype": "text/x-r-source",
   "name": "R",
   "pygments_lexer": "r",
   "version": "3.6.3"
  }
 },
 "nbformat": 4,
 "nbformat_minor": 4
}
